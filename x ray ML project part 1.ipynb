{
 "cells": [
  {
   "cell_type": "code",
   "execution_count": null,
   "id": "2eb2de41",
   "metadata": {},
   "outputs": [],
   "source": [
    "# Here from Chandra website I was trying to understand how things are working"
   ]
  },
  {
   "cell_type": "code",
   "execution_count": 2,
   "id": "525df0ee",
   "metadata": {},
   "outputs": [],
   "source": [
    "from astropy.coordinates import SkyCoord\n",
    "from astropy import units as u\n",
    "\n",
    "ngc1333 = SkyCoord.from_name('NGC 1333')\n",
    "maxrad = 2.0 * u.arcmin"
   ]
  },
  {
   "cell_type": "code",
   "execution_count": 3,
   "id": "3fe7bf18",
   "metadata": {},
   "outputs": [
    {
     "data": {
      "text/plain": [
       "<SkyCoord (ICRS): (ra, dec) in deg\n",
       "    (52.297, 31.31)>"
      ]
     },
     "execution_count": 3,
     "metadata": {},
     "output_type": "execute_result"
    }
   ],
   "source": [
    "ngc1333"
   ]
  },
  {
   "cell_type": "code",
   "execution_count": 5,
   "id": "2286af6f",
   "metadata": {},
   "outputs": [],
   "source": [
    "import pyvo as vo\n",
    "\n",
    "cone = vo.dal.SCSService('http://cda.cfa.harvard.edu/csc2scs/coneSearch')"
   ]
  },
  {
   "cell_type": "code",
   "execution_count": 6,
   "id": "11677891",
   "metadata": {},
   "outputs": [
    {
     "name": "stdout",
     "output_type": "stream",
     "text": [
      "Help on method search in module pyvo.dal.scs:\n",
      "\n",
      "search(pos, radius=1.0, verbosity=2, **keywords) method of pyvo.dal.scs.SCSService instance\n",
      "    submit a simple Cone Search query that requests objects or observations\n",
      "    whose positions fall within some distance from a search position.\n",
      "    \n",
      "    Parameters\n",
      "    ----------\n",
      "    pos : astropy.coordinates.SkyCoord\n",
      "        a SkyCoord instance defining the position of the center of the\n",
      "        circular search region.\n",
      "        converted if it's a iterable containing scalars,\n",
      "        assuming icrs degrees.\n",
      "    radius : `~astropy.units.Quantity` or float\n",
      "        a Quantity instance defining the radius of the circular search\n",
      "        region, in degrees.\n",
      "        converted if it is another unit.\n",
      "    verbosity : int\n",
      "       an integer value that indicates the volume of columns\n",
      "       to return in the result table.  0 means the minimum\n",
      "       set of columns, 3 means as many columns as are available.\n",
      "    **keywords :\n",
      "       additional case insensitive parameters can be given via arbitrary\n",
      "       case insensitive keyword arguments. Where there is overlap\n",
      "       with the parameters set by the other arguments to\n",
      "       this function, these keywords will override.\n",
      "    \n",
      "    Returns\n",
      "    -------\n",
      "    SCSResults\n",
      "        a container holding a table of matching catalog records\n",
      "    \n",
      "    Raises\n",
      "    ------\n",
      "    DALServiceError\n",
      "       for errors connecting to or communicating with the service\n",
      "    DALQueryError\n",
      "       if the service responds with an error,\n",
      "       including a query syntax error.\n",
      "    \n",
      "    See Also\n",
      "    --------\n",
      "    SCSResults\n",
      "    pyvo.dal.query.DALServiceError\n",
      "    pyvo.dal.query.DALQueryError\n",
      "\n"
     ]
    }
   ],
   "source": [
    "help(cone.search)"
   ]
  },
  {
   "cell_type": "code",
   "execution_count": 7,
   "id": "c3a664fe",
   "metadata": {},
   "outputs": [],
   "source": [
    "results = cone.search(pos=ngc1333, radius=maxrad)"
   ]
  },
  {
   "cell_type": "code",
   "execution_count": 8,
   "id": "471424ca",
   "metadata": {},
   "outputs": [
    {
     "data": {
      "text/plain": [
       "11"
      ]
     },
     "execution_count": 8,
     "metadata": {},
     "output_type": "execute_result"
    }
   ],
   "source": [
    "len(results)"
   ]
  },
  {
   "cell_type": "code",
   "execution_count": 9,
   "id": "809eb33f",
   "metadata": {},
   "outputs": [
    {
     "data": {
      "text/plain": [
       "<Table length=11>\n",
       "         name                 ra         ... var_inter_index_b var_inter_index_w\n",
       "                             deg         ...                                    \n",
       "        object             float64       ...       int32             int32      \n",
       "--------------------- ------------------ ... ----------------- -----------------\n",
       "2CXO J032903.3+311839 52.264053208173095 ...                 8                --\n",
       "2CXO J032906.5+311933  52.27748479124614 ...                 0                --\n",
       "2CXO J032908.3+312020  52.28463480776571 ...                 5                --\n",
       "2CXO J032909.2+312013  52.28852472101971 ...                 0                --\n",
       "2CXO J032911.3+311717 52.297138025389756 ...                 8                --\n",
       "2CXO J032912.7+312007  52.30321625483373 ...                 5                --\n",
       "2CXO J032912.9+311814 52.303936134512355 ...                 8                --\n",
       "2CXO J032913.5+311743  52.30662998943154 ...                 6                --\n",
       "2CXO J032915.6+311851 52.315122282594416 ...                 5                --\n",
       "2CXO J032918.5+311925  52.32745988191061 ...                 0                --\n",
       "2CXO J032920.4+311834    52.335032809729 ...                 8                --"
      ]
     },
     "execution_count": 9,
     "metadata": {},
     "output_type": "execute_result"
    }
   ],
   "source": [
    "results"
   ]
  },
  {
   "cell_type": "code",
   "execution_count": 10,
   "id": "3e1ffff7",
   "metadata": {},
   "outputs": [
    {
     "data": {
      "text/plain": [
       "('name',\n",
       " 'ra',\n",
       " 'dec',\n",
       " 'err_ellipse_r0',\n",
       " 'conf_flag',\n",
       " 'extent_flag',\n",
       " 'sat_src_flag',\n",
       " 'flux_aper_b',\n",
       " 'flux_aper_lolim_b',\n",
       " 'flux_aper_hilim_b',\n",
       " 'flux_aper_w',\n",
       " 'flux_aper_lolim_w',\n",
       " 'flux_aper_hilim_w',\n",
       " 'significance',\n",
       " 'hard_hm',\n",
       " 'hard_hm_lolim',\n",
       " 'hard_hm_hilim',\n",
       " 'hard_ms',\n",
       " 'hard_ms_lolim',\n",
       " 'hard_ms_hilim',\n",
       " 'var_intra_index_b',\n",
       " 'var_intra_index_w',\n",
       " 'var_inter_index_b',\n",
       " 'var_inter_index_w')"
      ]
     },
     "execution_count": 10,
     "metadata": {},
     "output_type": "execute_result"
    }
   ],
   "source": [
    "results.fieldnames"
   ]
  },
  {
   "cell_type": "code",
   "execution_count": 11,
   "id": "4b51b561",
   "metadata": {},
   "outputs": [
    {
     "data": {
      "text/plain": [
       "masked_array(data=['2CXO J032903.3+311839', '2CXO J032906.5+311933',\n",
       "                   '2CXO J032908.3+312020', '2CXO J032909.2+312013',\n",
       "                   '2CXO J032911.3+311717', '2CXO J032912.7+312007',\n",
       "                   '2CXO J032912.9+311814', '2CXO J032913.5+311743',\n",
       "                   '2CXO J032915.6+311851', '2CXO J032918.5+311925',\n",
       "                   '2CXO J032920.4+311834'],\n",
       "             mask=[False, False, False, False, False, False, False, False,\n",
       "                   False, False, False],\n",
       "       fill_value='?',\n",
       "            dtype=object)"
      ]
     },
     "execution_count": 11,
     "metadata": {},
     "output_type": "execute_result"
    }
   ],
   "source": [
    "results['name']"
   ]
  },
  {
   "cell_type": "code",
   "execution_count": 12,
   "id": "0809743d",
   "metadata": {},
   "outputs": [
    {
     "name": "stdout",
     "output_type": "stream",
     "text": [
      "2CXO J032903.3+311839 flux=0.000e+00  0.000e+00 - 2.780e-16\n",
      "2CXO J032906.5+311933 flux=5.838e-15  4.613e-15 - 7.063e-15\n",
      "2CXO J032908.3+312020 flux=nan  nan - nan\n",
      "2CXO J032909.2+312013 flux=1.302e-15  6.820e-16 - 1.922e-15\n",
      "2CXO J032911.3+311717 flux=5.124e-16  1.708e-16 - 8.398e-16\n",
      "2CXO J032912.7+312007 flux=7.360e-16  4.279e-16 - 1.044e-15\n",
      "2CXO J032912.9+311814 flux=8.559e-14  7.828e-14 - 9.244e-14\n",
      "2CXO J032913.5+311743 flux=0.000e+00  0.000e+00 - 9.234e-16\n",
      "2CXO J032915.6+311851 flux=1.300e-14  1.091e-14 - 1.496e-14\n",
      "2CXO J032918.5+311925 flux=1.191e-14  9.853e-15 - 1.382e-14\n",
      "2CXO J032920.4+311834 flux=2.206e-14  1.956e-14 - 2.441e-14\n"
     ]
    }
   ],
   "source": [
    "for r in results:\n",
    "    out = f\"{r['name']} flux={r['flux_aper_b']:.3e}  \"\n",
    "    out += f\"{r['flux_aper_lolim_b']:.3e} - {r['flux_aper_hilim_b']:.3e}\"\n",
    "    print(out)"
   ]
  },
  {
   "cell_type": "code",
   "execution_count": 14,
   "id": "6450fe0d",
   "metadata": {},
   "outputs": [
    {
     "data": {
      "text/plain": [
       "[<matplotlib.lines.Line2D at 0x2bd91e8f850>]"
      ]
     },
     "execution_count": 14,
     "metadata": {},
     "output_type": "execute_result"
    },
    {
     "data": {
      "image/png": "[encoded data removed]",
      "text/plain": [
       "<Figure size 640x480 with 1 Axes>"
      ]
     },
     "metadata": {},
     "output_type": "display_data"
    }
   ],
   "source": [
    "import matplotlib.pyplot as plt\n",
    "\n",
    "plt.plot(results['ra'], results['dec'], 'o')"
   ]
  },
  {
   "cell_type": "code",
   "execution_count": 15,
   "id": "90360553",
   "metadata": {},
   "outputs": [
    {
     "data": {
      "image/png": "[encoded data removed]",
      "text/plain": [
       "<Figure size 640x480 with 1 Axes>"
      ]
     },
     "metadata": {},
     "output_type": "display_data"
    }
   ],
   "source": [
    "plt.plot(results['flux_aper_b'], results['significance'], 'o')\n",
    "plt.xlabel('flux (aper_b)')\n",
    "plt.ylabel('Significance')\n",
    "plt.xscale('log')"
   ]
  },
  {
   "cell_type": "code",
   "execution_count": 16,
   "id": "0e1fe165",
   "metadata": {},
   "outputs": [
    {
     "data": {
      "text/plain": [
       "<FIELD ID=\"name\" arraysize=\"*\" datatype=\"char\" name=\"name\"/>"
      ]
     },
     "execution_count": 16,
     "metadata": {},
     "output_type": "execute_result"
    }
   ],
   "source": [
    "results.votable.get_field_by_id_or_name('name')"
   ]
  },
  {
   "cell_type": "code",
   "execution_count": 17,
   "id": "96a48392",
   "metadata": {},
   "outputs": [],
   "source": [
    "tbl = results.to_table()"
   ]
  },
  {
   "cell_type": "code",
   "execution_count": 18,
   "id": "f1f81979",
   "metadata": {},
   "outputs": [
    {
     "data": {
      "text/html": [
       "&lt;MaskedColumn name=&apos;name&apos; dtype=&apos;object&apos; description=&quot;Source name in the format &apos;2CXO Jhhmmss.s{+|-}ddmmss[X]&apos;&quot; length=11&gt;\n",
       "<table>\n",
       "<tr><td>2CXO J032903.3+311839</td></tr>\n",
       "<tr><td>2CXO J032906.5+311933</td></tr>\n",
       "<tr><td>2CXO J032908.3+312020</td></tr>\n",
       "<tr><td>2CXO J032909.2+312013</td></tr>\n",
       "<tr><td>2CXO J032911.3+311717</td></tr>\n",
       "<tr><td>2CXO J032912.7+312007</td></tr>\n",
       "<tr><td>2CXO J032912.9+311814</td></tr>\n",
       "<tr><td>2CXO J032913.5+311743</td></tr>\n",
       "<tr><td>2CXO J032915.6+311851</td></tr>\n",
       "<tr><td>2CXO J032918.5+311925</td></tr>\n",
       "<tr><td>2CXO J032920.4+311834</td></tr>\n",
       "</table>"
      ],
      "text/plain": [
       "<MaskedColumn name='name' dtype='object' description=\"Source name in the format '2CXO Jhhmmss.s{+|-}ddmmss[X]'\" length=11>\n",
       "2CXO J032903.3+311839\n",
       "2CXO J032906.5+311933\n",
       "2CXO J032908.3+312020\n",
       "2CXO J032909.2+312013\n",
       "2CXO J032911.3+311717\n",
       "2CXO J032912.7+312007\n",
       "2CXO J032912.9+311814\n",
       "2CXO J032913.5+311743\n",
       "2CXO J032915.6+311851\n",
       "2CXO J032918.5+311925\n",
       "2CXO J032920.4+311834"
      ]
     },
     "execution_count": 18,
     "metadata": {},
     "output_type": "execute_result"
    }
   ],
   "source": [
    "tbl['name']"
   ]
  },
  {
   "cell_type": "code",
   "execution_count": 19,
   "id": "f4f239b7",
   "metadata": {},
   "outputs": [],
   "source": [
    "tbl['name'] = [str(n) for n in tbl['name']]"
   ]
  },
  {
   "cell_type": "code",
   "execution_count": 20,
   "id": "19a3cbce",
   "metadata": {},
   "outputs": [
    {
     "data": {
      "text/html": [
       "&lt;Column name=&apos;name&apos; dtype=&apos;str21&apos; length=11&gt;\n",
       "<table>\n",
       "<tr><td>2CXO J032903.3+311839</td></tr>\n",
       "<tr><td>2CXO J032906.5+311933</td></tr>\n",
       "<tr><td>2CXO J032908.3+312020</td></tr>\n",
       "<tr><td>2CXO J032909.2+312013</td></tr>\n",
       "<tr><td>2CXO J032911.3+311717</td></tr>\n",
       "<tr><td>2CXO J032912.7+312007</td></tr>\n",
       "<tr><td>2CXO J032912.9+311814</td></tr>\n",
       "<tr><td>2CXO J032913.5+311743</td></tr>\n",
       "<tr><td>2CXO J032915.6+311851</td></tr>\n",
       "<tr><td>2CXO J032918.5+311925</td></tr>\n",
       "<tr><td>2CXO J032920.4+311834</td></tr>\n",
       "</table>"
      ],
      "text/plain": [
       "<Column name='name' dtype='str21' length=11>\n",
       "2CXO J032903.3+311839\n",
       "2CXO J032906.5+311933\n",
       "2CXO J032908.3+312020\n",
       "2CXO J032909.2+312013\n",
       "2CXO J032911.3+311717\n",
       "2CXO J032912.7+312007\n",
       "2CXO J032912.9+311814\n",
       "2CXO J032913.5+311743\n",
       "2CXO J032915.6+311851\n",
       "2CXO J032918.5+311925\n",
       "2CXO J032920.4+311834"
      ]
     },
     "execution_count": 20,
     "metadata": {},
     "output_type": "execute_result"
    }
   ],
   "source": [
    "tbl['name']"
   ]
  },
  {
   "cell_type": "code",
   "execution_count": 21,
   "id": "bcae2cbe",
   "metadata": {},
   "outputs": [
    {
     "data": {
      "text/html": [
       "<div><i>Table length=11</i>\n",
       "<table id=\"table3013189480208\" class=\"table-striped table-bordered table-condensed\">\n",
       "<thead><tr><th>name</th><th>ra</th><th>dec</th><th>err_ellipse_r0</th><th>conf_flag</th><th>extent_flag</th><th>sat_src_flag</th><th>flux_aper_b</th><th>flux_aper_lolim_b</th><th>flux_aper_hilim_b</th><th>flux_aper_w</th><th>flux_aper_lolim_w</th><th>flux_aper_hilim_w</th><th>significance</th><th>hard_hm</th><th>hard_hm_lolim</th><th>hard_hm_hilim</th><th>hard_ms</th><th>hard_ms_lolim</th><th>hard_ms_hilim</th><th>var_intra_index_b</th><th>var_intra_index_w</th><th>var_inter_index_b</th><th>var_inter_index_w</th></tr></thead>\n",
       "<thead><tr><th></th><th>deg</th><th>deg</th><th>arcsec</th><th></th><th></th><th></th><th>erg/s/cm^2</th><th>erg/s/cm^2</th><th>erg/s/cm^2</th><th>erg/s/cm^2</th><th>erg/s/cm^2</th><th>erg/s/cm^2</th><th></th><th></th><th></th><th></th><th></th><th></th><th></th><th></th><th></th><th></th><th></th></tr></thead>\n",
       "<thead><tr><th>str21</th><th>float64</th><th>float64</th><th>float64</th><th>int32</th><th>int32</th><th>int32</th><th>float64</th><th>float64</th><th>float64</th><th>float64</th><th>float64</th><th>float64</th><th>float64</th><th>float64</th><th>float64</th><th>float64</th><th>float64</th><th>float64</th><th>float64</th><th>int32</th><th>int32</th><th>int32</th><th>int32</th></tr></thead>\n",
       "<tr><td>2CXO J032903.3+311839</td><td>52.264053208173095</td><td>31.31106095787967</td><td>0.8490675280114611</td><td>0</td><td>0</td><td>0</td><td>0.0</td><td>0.0</td><td>2.779850359713e-16</td><td>--</td><td>--</td><td>--</td><td>3.828571428571595</td><td>--</td><td>--</td><td>--</td><td>--</td><td>--</td><td>--</td><td>7</td><td>--</td><td>8</td><td>--</td></tr>\n",
       "<tr><td>2CXO J032906.5+311933</td><td>52.27748479124614</td><td>31.32587557721507</td><td>0.7327854939415506</td><td>0</td><td>0</td><td>0</td><td>5.8379249864394e-15</td><td>4.612681470767e-15</td><td>7.0631685021119e-15</td><td>--</td><td>--</td><td>--</td><td>3.4117647058826313</td><td>0.77576514678326</td><td>0.64772017489069</td><td>0.88007495315428</td><td>0.27232979387883</td><td>-0.16926920674578</td><td>0.66396002498438</td><td>1</td><td>--</td><td>0</td><td>--</td></tr>\n",
       "<tr><td>2CXO J032908.3+312020</td><td>52.28463480776571</td><td>31.338996385341815</td><td>0.8678631025303377</td><td>0</td><td>0</td><td>0</td><td>--</td><td>--</td><td>--</td><td>--</td><td>--</td><td>--</td><td>2.263157894736817</td><td>--</td><td>--</td><td>--</td><td>--</td><td>--</td><td>--</td><td>0</td><td>--</td><td>5</td><td>--</td></tr>\n",
       "<tr><td>2CXO J032909.2+312013</td><td>52.28852472101971</td><td>31.337169858518294</td><td>1.0265599460318278</td><td>0</td><td>0</td><td>0</td><td>1.3020468421412e-15</td><td>6.8202453635966e-16</td><td>1.9220691479227e-15</td><td>--</td><td>--</td><td>--</td><td>2.2051282051282013</td><td>0.76702061211743</td><td>0.49531542785759</td><td>0.94628357276702</td><td>0.079950031230481</td><td>-0.40037476577139</td><td>0.81636477201749</td><td>1</td><td>--</td><td>0</td><td>--</td></tr>\n",
       "<tr><td>2CXO J032911.3+311717</td><td>52.297138025389756</td><td>31.28818833144073</td><td>0.7246181435511504</td><td>0</td><td>0</td><td>0</td><td>5.1240943327491e-16</td><td>1.7080314442497e-16</td><td>8.397821267561e-16</td><td>--</td><td>--</td><td>--</td><td>10.940543446008615</td><td>-0.99937539038101</td><td>-1.0</td><td>-0.26046221111805</td><td>-0.77701436602124</td><td>-0.90880699562773</td><td>-0.59525296689569</td><td>10</td><td>--</td><td>8</td><td>--</td></tr>\n",
       "<tr><td>2CXO J032912.7+312007</td><td>52.30321625483373</td><td>31.335460880981444</td><td>0.9368144254938002</td><td>0</td><td>0</td><td>0</td><td>7.3599899769871e-16</td><td>4.2790639401088e-16</td><td>1.0440916013865e-15</td><td>--</td><td>--</td><td>--</td><td>2.6666666666666483</td><td>-0.99937539038101</td><td>-1.0</td><td>-0.41411617738913</td><td>-0.50718301061836</td><td>-0.73891317926296</td><td>-0.210493441599</td><td>0</td><td>--</td><td>5</td><td>--</td></tr>\n",
       "<tr><td>2CXO J032912.9+311814</td><td>52.303936134512355</td><td>31.303996974080796</td><td>0.7122644739792062</td><td>0</td><td>0</td><td>0</td><td>8.5586371260174e-14</td><td>7.8277736906954e-14</td><td>9.2438215966317e-14</td><td>--</td><td>--</td><td>--</td><td>23.176909584218283</td><td>0.86071205496565</td><td>0.82261086820737</td><td>0.89506558400999</td><td>0.54840724547158</td><td>0.28544659587758</td><td>0.75890068707058</td><td>7</td><td>--</td><td>8</td><td>--</td></tr>\n",
       "<tr><td>2CXO J032913.5+311743</td><td>52.30662998943154</td><td>31.295338802464315</td><td>1.0688000599207017</td><td>0</td><td>0</td><td>0</td><td>0.0</td><td>0.0</td><td>9.2344863953846e-16</td><td>--</td><td>--</td><td>--</td><td>3.684210526316029</td><td>--</td><td>--</td><td>--</td><td>--</td><td>--</td><td>--</td><td>0</td><td>--</td><td>6</td><td>--</td></tr>\n",
       "<tr><td>2CXO J032915.6+311851</td><td>52.315122282594416</td><td>31.31439233133448</td><td>0.7654782093590824</td><td>0</td><td>0</td><td>0</td><td>1.3001357225142e-14</td><td>1.0909646462505e-14</td><td>1.4962336065114e-14</td><td>--</td><td>--</td><td>--</td><td>5.214285714285858</td><td>0.99937539038101</td><td>0.9737663960025</td><td>1.0</td><td>-0.99937539038101</td><td>-1.0</td><td>0.0093691442848218</td><td>1</td><td>--</td><td>5</td><td>--</td></tr>\n",
       "<tr><td>2CXO J032918.5+311925</td><td>52.32745988191061</td><td>31.323683017704216</td><td>0.7693067507068768</td><td>0</td><td>0</td><td>0</td><td>1.1912324293129e-14</td><td>9.853404044934e-15</td><td>1.382417880931e-14</td><td>--</td><td>--</td><td>--</td><td>6.137931034482787</td><td>0.7945034353529</td><td>0.7001873828857</td><td>0.86883198001249</td><td>0.99937539038101</td><td>0.59650218613367</td><td>1.0</td><td>2</td><td>--</td><td>0</td><td>--</td></tr>\n",
       "<tr><td>2CXO J032920.4+311834</td><td>52.335032809729</td><td>31.30951946450753</td><td>0.7456862093239943</td><td>0</td><td>0</td><td>0</td><td>2.2057569759457e-14</td><td>1.9557852252377e-14</td><td>2.4410245060238e-14</td><td>--</td><td>--</td><td>--</td><td>9.047982362774253</td><td>0.60587133041849</td><td>0.52404747033104</td><td>0.683947532792</td><td>0.55465334166146</td><td>0.32292317301686</td><td>0.75515302935665</td><td>8</td><td>--</td><td>8</td><td>--</td></tr>\n",
       "</table></div>"
      ],
      "text/plain": [
       "<Table length=11>\n",
       "         name                 ra         ... var_inter_index_b var_inter_index_w\n",
       "                             deg         ...                                    \n",
       "        str21              float64       ...       int32             int32      \n",
       "--------------------- ------------------ ... ----------------- -----------------\n",
       "2CXO J032903.3+311839 52.264053208173095 ...                 8                --\n",
       "2CXO J032906.5+311933  52.27748479124614 ...                 0                --\n",
       "2CXO J032908.3+312020  52.28463480776571 ...                 5                --\n",
       "2CXO J032909.2+312013  52.28852472101971 ...                 0                --\n",
       "2CXO J032911.3+311717 52.297138025389756 ...                 8                --\n",
       "2CXO J032912.7+312007  52.30321625483373 ...                 5                --\n",
       "2CXO J032912.9+311814 52.303936134512355 ...                 8                --\n",
       "2CXO J032913.5+311743  52.30662998943154 ...                 6                --\n",
       "2CXO J032915.6+311851 52.315122282594416 ...                 5                --\n",
       "2CXO J032918.5+311925  52.32745988191061 ...                 0                --\n",
       "2CXO J032920.4+311834    52.335032809729 ...                 8                --"
      ]
     },
     "execution_count": 21,
     "metadata": {},
     "output_type": "execute_result"
    }
   ],
   "source": [
    "tbl"
   ]
  },
  {
   "cell_type": "code",
   "execution_count": 22,
   "id": "ef3eea84",
   "metadata": {},
   "outputs": [
    {
     "name": "stderr",
     "output_type": "stream",
     "text": [
      "WARNING: UnitsWarning: 'erg/s/cm^2' contains multiple slashes, which is discouraged by the FITS standard [astropy.units.format.generic]\n",
      "WARNING: VerifyWarning: Keyword name 'description' is greater than 8 characters or contains characters not allowed by the FITS standard; a HIERARCH card will be created. [astropy.io.fits.card]\n"
     ]
    }
   ],
   "source": [
    "tbl.write('ngc1333.fits', format='fits', overwrite=True)"
   ]
  },
  {
   "cell_type": "markdown",
   "id": "dc1ad587",
   "metadata": {},
   "source": [
    "# General Query"
   ]
  },
  {
   "cell_type": "code",
   "execution_count": 23,
   "id": "00ece687",
   "metadata": {},
   "outputs": [],
   "source": [
    "tap = vo.dal.TAPService('http://cda.cfa.harvard.edu/csc2tap')"
   ]
  },
  {
   "cell_type": "code",
   "execution_count": 24,
   "id": "44bea262",
   "metadata": {},
   "outputs": [
    {
     "name": "stdout",
     "output_type": "stream",
     "text": [
      " 1 - TAP_SCHEMA.schemas\n",
      " 2 - TAP_SCHEMA.tables\n",
      " 3 - TAP_SCHEMA.columns\n",
      " 4 - TAP_SCHEMA.keys\n",
      " 5 - TAP_SCHEMA.key_columns\n",
      " 6 - csc2.master_source\n",
      " 7 - csc2.stack_source\n",
      " 8 - csc2.observation_source\n",
      " 9 - csc2.master_stack_assoc\n",
      "10 - csc2.stack_observation_assoc\n",
      "11 - csc2.detect_stack\n",
      "12 - csc2.valid_stack\n",
      "13 - csc2.likely_stack\n",
      "14 - csc2.cross_match\n",
      "15 - csc2.cone\n",
      "16 - csc2.image\n",
      "17 - ivoa.ObsCore\n"
     ]
    }
   ],
   "source": [
    "for i, tblname in enumerate(tap.tables.keys()):\n",
    "    print(f\"{i + 1:2d} - {tblname}\")"
   ]
  },
  {
   "cell_type": "code",
   "execution_count": 25,
   "id": "36836a85",
   "metadata": {},
   "outputs": [],
   "source": [
    "qry = \"\"\"\n",
    "SELECT m.name, m.ra, m.dec, m.conf_flag, m.significance, m.extent_flag, m.sat_src_flag,\n",
    "       m.flux_aper_b, m.flux_aper_lolim_b, m.flux_aper_hilim_b\n",
    "FROM csc2.master_source m\n",
    "WHERE m.name LIKE '%X'\n",
    "\"\"\""
   ]
  },
  {
   "cell_type": "code",
   "execution_count": 26,
   "id": "4de4aeb5",
   "metadata": {},
   "outputs": [],
   "source": [
    "tresults = tap.search(qry)"
   ]
  },
  {
   "cell_type": "code",
   "execution_count": 27,
   "id": "e2ea5bb4",
   "metadata": {},
   "outputs": [
    {
     "data": {
      "text/plain": [
       "1299"
      ]
     },
     "execution_count": 27,
     "metadata": {},
     "output_type": "execute_result"
    }
   ],
   "source": [
    "len(tresults)"
   ]
  },
  {
   "cell_type": "code",
   "execution_count": 28,
   "id": "6365b4e3",
   "metadata": {},
   "outputs": [
    {
     "data": {
      "text/plain": [
       "(370.0, -10.0)"
      ]
     },
     "execution_count": 28,
     "metadata": {},
     "output_type": "execute_result"
    },
    {
     "data": {
      "image/png": "[encoded data removed]",
      "text/plain": [
       "<Figure size 640x480 with 1 Axes>"
      ]
     },
     "metadata": {},
     "output_type": "display_data"
    }
   ],
   "source": [
    "plt.plot(tresults['ra'], tresults['dec'], 'o')\n",
    "plt.title('Extended sources in CSC 2.0')\n",
    "plt.xlabel('Right Ascension')\n",
    "plt.ylabel('Declination')\n",
    "plt.ylim(-90, 90)\n",
    "plt.xlim(370, -10)"
   ]
  },
  {
   "cell_type": "code",
   "execution_count": 29,
   "id": "764600cb",
   "metadata": {},
   "outputs": [],
   "source": [
    "qry = \"\"\"\n",
    "SELECT m.name, m.ra, m.dec, m.conf_flag, m.significance, m.extent_flag, m.sat_src_flag,\n",
    "       m.flux_aper_b, m.flux_aper_lolim_b, m.flux_aper_hilim_b\n",
    "FROM csc2.master_source m\n",
    "WHERE m.name NOT LIKE '%X'\n",
    "\"\"\""
   ]
  },
  {
   "cell_type": "code",
   "execution_count": 31,
   "id": "2c2896b3",
   "metadata": {
    "scrolled": false
   },
   "outputs": [
    {
     "name": "stdout",
     "output_type": "stream",
     "text": [
      "Wall time: 15min 38s\n"
     ]
    }
   ],
   "source": [
    "%time cat = tap.search(qry)"
   ]
  },
  {
   "cell_type": "code",
   "execution_count": 32,
   "id": "1ad0b2ef",
   "metadata": {},
   "outputs": [
    {
     "data": {
      "text/plain": [
       "1000000"
      ]
     },
     "execution_count": 32,
     "metadata": {},
     "output_type": "execute_result"
    }
   ],
   "source": [
    "tap.maxrec"
   ]
  },
  {
   "cell_type": "code",
   "execution_count": 33,
   "id": "62ea5e66",
   "metadata": {},
   "outputs": [
    {
     "data": {
      "text/plain": [
       "315868"
      ]
     },
     "execution_count": 33,
     "metadata": {},
     "output_type": "execute_result"
    }
   ],
   "source": [
    "len(cat)"
   ]
  },
  {
   "cell_type": "code",
   "execution_count": 49,
   "id": "b2417c3e",
   "metadata": {},
   "outputs": [
    {
     "data": {
      "text/plain": [
       "pyvo.dal.tap.TAPResults"
      ]
     },
     "execution_count": 49,
     "metadata": {},
     "output_type": "execute_result"
    }
   ],
   "source": [
    "type(cat)"
   ]
  },
  {
   "cell_type": "code",
   "execution_count": 52,
   "id": "798b5c8c",
   "metadata": {},
   "outputs": [],
   "source": [
    "tbl = cat.to_table()"
   ]
  },
  {
   "cell_type": "code",
   "execution_count": 53,
   "id": "23f534ec",
   "metadata": {},
   "outputs": [
    {
     "data": {
      "text/plain": [
       "astropy.table.table.Table"
      ]
     },
     "execution_count": 53,
     "metadata": {},
     "output_type": "execute_result"
    }
   ],
   "source": [
    "type(tbl)"
   ]
  },
  {
   "cell_type": "code",
   "execution_count": 54,
   "id": "0696d526",
   "metadata": {},
   "outputs": [],
   "source": [
    "tbl['name'] = [str(n) for n in tbl['name']]"
   ]
  },
  {
   "cell_type": "code",
   "execution_count": 55,
   "id": "81ae8629",
   "metadata": {},
   "outputs": [],
   "source": [
    "tbl.write('csc2.csv', format='csv', overwrite=True)"
   ]
  },
  {
   "cell_type": "code",
   "execution_count": 42,
   "id": "8c0fca25",
   "metadata": {},
   "outputs": [],
   "source": [
    "import csv\n",
    "\n",
    "# Assuming you have already fetched the TAPResults object 'cat'\n",
    "\n",
    "with open(\"results.csv\", \"w\", newline=\"\") as file:\n",
    "    writer = csv.writer(file)\n",
    "    writer.writerows(cat)\n",
    "\n"
   ]
  },
  {
   "cell_type": "code",
   "execution_count": 39,
   "id": "20ea990f",
   "metadata": {},
   "outputs": [],
   "source": [
    "from astroquery.utils.tap.core import TapPlus\n",
    "\n",
    "tap = vo.dal.TAPService('http://cda.cfa.harvard.edu/csc2tap')"
   ]
  },
  {
   "cell_type": "code",
   "execution_count": null,
   "id": "c6a51553",
   "metadata": {},
   "outputs": [],
   "source": [
    "plt.plot(cat['ra'], cat['dec'], '.', alpha=0.1)\n",
    "plt.xlabel('Right Ascension')\n",
    "plt.ylabel('Declination')\n",
    "plt.ylim(-90, 90)\n",
    "plt.xlim(370, -10);"
   ]
  },
  {
   "cell_type": "code",
   "execution_count": null,
   "id": "13e31db3",
   "metadata": {},
   "outputs": [],
   "source": [
    "qry = \"\"\"\n",
    "SELECT m.name, m.ra, m.dec, m.conf_flag, m.significance, m.extent_flag, m.sat_src_flag,\n",
    "       m.flux_aper_b, m.flux_aper_lolim_b, m.flux_aper_hilim_b\n",
    "FROM csc2.master_source m\n",
    "WHERE m.name NOT LIKE '%X'\n",
    "\"\"\""
   ]
  },
  {
   "cell_type": "code",
   "execution_count": 46,
   "id": "884be869",
   "metadata": {},
   "outputs": [],
   "source": [
    "qry1 = \"\"\"\n",
    "SELECT a.name, a.ra, a.dec, a.conf_flag, a.significance, a.extent_flag,\n",
    "       a.flux_aper_b, a.flux_aper_lolim_b, a.flux_aper_hilim_b, a.pileup_flag = 0,a.sat_src_flag = 0,a.conf_flag = 0,a.streak_src_flag = 0\n",
    "FROM csc21_snapshot.master_stack_assoc a \n",
    "WHERE a.name NOT LIKE '%X'\n",
    "\"\"\""
   ]
  },
  {
   "cell_type": "code",
   "execution_count": 47,
   "id": "accf8220",
   "metadata": {},
   "outputs": [
    {
     "ename": "DALQueryError",
     "evalue": "error parsing ADQL query",
     "output_type": "error",
     "traceback": [
      "\u001b[1;31m---------------------------------------------------------------------------\u001b[0m",
      "\u001b[1;31mDALQueryError\u001b[0m                             Traceback (most recent call last)",
      "\u001b[1;32m<timed exec>\u001b[0m in \u001b[0;36m<module>\u001b[1;34m\u001b[0m\n",
      "\u001b[1;32mD:\\Anaconda\\lib\\site-packages\\pyvo\\dal\\tap.py\u001b[0m in \u001b[0;36mrun_sync\u001b[1;34m(self, query, language, maxrec, uploads, **keywords)\u001b[0m\n\u001b[0;32m    253\u001b[0m         \u001b[0mTAPResults\u001b[0m\u001b[1;33m\u001b[0m\u001b[1;33m\u001b[0m\u001b[0m\n\u001b[0;32m    254\u001b[0m         \"\"\"\n\u001b[1;32m--> 255\u001b[1;33m         return self.create_query(\n\u001b[0m\u001b[0;32m    256\u001b[0m             \u001b[0mquery\u001b[0m\u001b[1;33m,\u001b[0m \u001b[0mlanguage\u001b[0m\u001b[1;33m=\u001b[0m\u001b[0mlanguage\u001b[0m\u001b[1;33m,\u001b[0m \u001b[0mmaxrec\u001b[0m\u001b[1;33m=\u001b[0m\u001b[0mmaxrec\u001b[0m\u001b[1;33m,\u001b[0m \u001b[0muploads\u001b[0m\u001b[1;33m=\u001b[0m\u001b[0muploads\u001b[0m\u001b[1;33m,\u001b[0m\u001b[1;33m\u001b[0m\u001b[1;33m\u001b[0m\u001b[0m\n\u001b[0;32m    257\u001b[0m             **keywords).execute()\n",
      "\u001b[1;32mD:\\Anaconda\\lib\\site-packages\\pyvo\\dal\\tap.py\u001b[0m in \u001b[0;36mexecute\u001b[1;34m(self)\u001b[0m\n\u001b[0;32m   1071\u001b[0m            \u001b[1;32mfor\u001b[0m \u001b[0merrors\u001b[0m \u001b[0mparsing\u001b[0m \u001b[0mthe\u001b[0m \u001b[0mVOTable\u001b[0m \u001b[0mresponse\u001b[0m\u001b[1;33m\u001b[0m\u001b[1;33m\u001b[0m\u001b[0m\n\u001b[0;32m   1072\u001b[0m         \"\"\"\n\u001b[1;32m-> 1073\u001b[1;33m         \u001b[1;32mreturn\u001b[0m \u001b[0mTAPResults\u001b[0m\u001b[1;33m(\u001b[0m\u001b[0mself\u001b[0m\u001b[1;33m.\u001b[0m\u001b[0mexecute_votable\u001b[0m\u001b[1;33m(\u001b[0m\u001b[1;33m)\u001b[0m\u001b[1;33m,\u001b[0m \u001b[0murl\u001b[0m\u001b[1;33m=\u001b[0m\u001b[0mself\u001b[0m\u001b[1;33m.\u001b[0m\u001b[0mqueryurl\u001b[0m\u001b[1;33m,\u001b[0m \u001b[0msession\u001b[0m\u001b[1;33m=\u001b[0m\u001b[0mself\u001b[0m\u001b[1;33m.\u001b[0m\u001b[0m_session\u001b[0m\u001b[1;33m)\u001b[0m\u001b[1;33m\u001b[0m\u001b[1;33m\u001b[0m\u001b[0m\n\u001b[0m\u001b[0;32m   1074\u001b[0m \u001b[1;33m\u001b[0m\u001b[0m\n\u001b[0;32m   1075\u001b[0m     \u001b[1;32mdef\u001b[0m \u001b[0msubmit\u001b[0m\u001b[1;33m(\u001b[0m\u001b[0mself\u001b[0m\u001b[1;33m,\u001b[0m \u001b[0mpost\u001b[0m\u001b[1;33m=\u001b[0m\u001b[1;32mFalse\u001b[0m\u001b[1;33m)\u001b[0m\u001b[1;33m:\u001b[0m\u001b[1;33m\u001b[0m\u001b[1;33m\u001b[0m\u001b[0m\n",
      "\u001b[1;32mD:\\Anaconda\\lib\\site-packages\\pyvo\\dal\\adhoc.py\u001b[0m in \u001b[0;36m__init__\u001b[1;34m(self, votable, url, session)\u001b[0m\n\u001b[0;32m    109\u001b[0m     \"\"\"\n\u001b[0;32m    110\u001b[0m     \u001b[1;32mdef\u001b[0m \u001b[0m__init__\u001b[0m\u001b[1;33m(\u001b[0m\u001b[0mself\u001b[0m\u001b[1;33m,\u001b[0m \u001b[0mvotable\u001b[0m\u001b[1;33m,\u001b[0m \u001b[0murl\u001b[0m\u001b[1;33m=\u001b[0m\u001b[1;32mNone\u001b[0m\u001b[1;33m,\u001b[0m \u001b[0msession\u001b[0m\u001b[1;33m=\u001b[0m\u001b[1;32mNone\u001b[0m\u001b[1;33m)\u001b[0m\u001b[1;33m:\u001b[0m\u001b[1;33m\u001b[0m\u001b[1;33m\u001b[0m\u001b[0m\n\u001b[1;32m--> 111\u001b[1;33m         \u001b[0msuper\u001b[0m\u001b[1;33m(\u001b[0m\u001b[1;33m)\u001b[0m\u001b[1;33m.\u001b[0m\u001b[0m__init__\u001b[0m\u001b[1;33m(\u001b[0m\u001b[0mvotable\u001b[0m\u001b[1;33m,\u001b[0m \u001b[0murl\u001b[0m\u001b[1;33m=\u001b[0m\u001b[0murl\u001b[0m\u001b[1;33m,\u001b[0m \u001b[0msession\u001b[0m\u001b[1;33m=\u001b[0m\u001b[0msession\u001b[0m\u001b[1;33m)\u001b[0m\u001b[1;33m\u001b[0m\u001b[1;33m\u001b[0m\u001b[0m\n\u001b[0m\u001b[0;32m    112\u001b[0m \u001b[1;33m\u001b[0m\u001b[0m\n\u001b[0;32m    113\u001b[0m         self._adhocservices = list(\n",
      "\u001b[1;32mD:\\Anaconda\\lib\\site-packages\\pyvo\\dal\\query.py\u001b[0m in \u001b[0;36m__init__\u001b[1;34m(self, votable, url, session)\u001b[0m\n\u001b[0;32m    319\u001b[0m         \u001b[0mself\u001b[0m\u001b[1;33m.\u001b[0m\u001b[0m_status\u001b[0m \u001b[1;33m=\u001b[0m \u001b[0mself\u001b[0m\u001b[1;33m.\u001b[0m\u001b[0m_findstatus\u001b[0m\u001b[1;33m(\u001b[0m\u001b[0mvotable\u001b[0m\u001b[1;33m)\u001b[0m\u001b[1;33m\u001b[0m\u001b[1;33m\u001b[0m\u001b[0m\n\u001b[0;32m    320\u001b[0m         \u001b[1;32mif\u001b[0m \u001b[0mself\u001b[0m\u001b[1;33m.\u001b[0m\u001b[0m_status\u001b[0m\u001b[1;33m[\u001b[0m\u001b[1;36m0\u001b[0m\u001b[1;33m]\u001b[0m\u001b[1;33m.\u001b[0m\u001b[0mlower\u001b[0m\u001b[1;33m(\u001b[0m\u001b[1;33m)\u001b[0m \u001b[1;32mnot\u001b[0m \u001b[1;32min\u001b[0m \u001b[1;33m(\u001b[0m\u001b[1;34m\"ok\"\u001b[0m\u001b[1;33m,\u001b[0m \u001b[1;34m\"overflow\"\u001b[0m\u001b[1;33m)\u001b[0m\u001b[1;33m:\u001b[0m\u001b[1;33m\u001b[0m\u001b[1;33m\u001b[0m\u001b[0m\n\u001b[1;32m--> 321\u001b[1;33m             \u001b[1;32mraise\u001b[0m \u001b[0mDALQueryError\u001b[0m\u001b[1;33m(\u001b[0m\u001b[0mself\u001b[0m\u001b[1;33m.\u001b[0m\u001b[0m_status\u001b[0m\u001b[1;33m[\u001b[0m\u001b[1;36m1\u001b[0m\u001b[1;33m]\u001b[0m\u001b[1;33m,\u001b[0m \u001b[0mself\u001b[0m\u001b[1;33m.\u001b[0m\u001b[0m_status\u001b[0m\u001b[1;33m[\u001b[0m\u001b[1;36m0\u001b[0m\u001b[1;33m]\u001b[0m\u001b[1;33m,\u001b[0m \u001b[0murl\u001b[0m\u001b[1;33m)\u001b[0m\u001b[1;33m\u001b[0m\u001b[1;33m\u001b[0m\u001b[0m\n\u001b[0m\u001b[0;32m    322\u001b[0m \u001b[1;33m\u001b[0m\u001b[0m\n\u001b[0;32m    323\u001b[0m         \u001b[1;32mif\u001b[0m \u001b[0mself\u001b[0m\u001b[1;33m.\u001b[0m\u001b[0m_status\u001b[0m\u001b[1;33m[\u001b[0m\u001b[1;36m0\u001b[0m\u001b[1;33m]\u001b[0m\u001b[1;33m.\u001b[0m\u001b[0mlower\u001b[0m\u001b[1;33m(\u001b[0m\u001b[1;33m)\u001b[0m \u001b[1;33m==\u001b[0m \u001b[1;34m\"overflow\"\u001b[0m\u001b[1;33m:\u001b[0m\u001b[1;33m\u001b[0m\u001b[1;33m\u001b[0m\u001b[0m\n",
      "\u001b[1;31mDALQueryError\u001b[0m: error parsing ADQL query"
     ]
    }
   ],
   "source": [
    "%time cat1 = tap.search(qry1)"
   ]
  },
  {
   "cell_type": "code",
   "execution_count": null,
   "id": "52e26bba",
   "metadata": {},
   "outputs": [],
   "source": []
  },
  {
   "cell_type": "code",
   "execution_count": null,
   "id": "266fb588",
   "metadata": {},
   "outputs": [],
   "source": []
  },
  {
   "cell_type": "markdown",
   "id": "fe796149",
   "metadata": {},
   "source": [
    "# NED Query"
   ]
  },
  {
   "cell_type": "code",
   "execution_count": 81,
   "id": "59537a76",
   "metadata": {},
   "outputs": [
    {
     "name": "stdout",
     "output_type": "stream",
     "text": [
      "No. Object Name     RA     ... Redshift Points Diameter Points Associations\n",
      "                 degrees   ...                                             \n",
      "--- ----------- ---------- ... --------------- --------------- ------------\n",
      "  1 MESSIER 031   10.68479 ...              40              13            2\n",
      "No. Object Name     RA     ... Redshift Points Diameter Points Associations\n",
      "                 degrees   ...                                             \n",
      "--- ----------- ---------- ... --------------- --------------- ------------\n",
      "  1 MESSIER 042   83.81866 ...               0               6            0\n",
      "No. Object Name     RA     ... Redshift Points Diameter Points Associations\n",
      "                 degrees   ...                                             \n",
      "--- ----------- ---------- ... --------------- --------------- ------------\n",
      "  1 MESSIER 031   10.68479 ...              40              13            2\n",
      "No. Object Name     RA     ... Redshift Points Diameter Points Associations\n",
      "                 degrees   ...                                             \n",
      "--- ----------- ---------- ... --------------- --------------- ------------\n",
      "  1 MESSIER 087  187.70593 ...              73              14            1\n"
     ]
    }
   ],
   "source": [
    "from astroquery.ned import Ned\n",
    "\n",
    "def search_ned_objects(object_names):\n",
    "    for name in object_names:\n",
    "        result_table = Ned.query_object(name)\n",
    "        if result_table is not None:\n",
    "            # Print the results or perform further processing\n",
    "            print(result_table)\n",
    "\n",
    "# Example list of object names\n",
    "object_names = [\"M31\", \"M42\", \"NGC 224\", \"Messier 87\"]\n",
    "\n",
    "a= search_ned_objects(object_names)\n"
   ]
  },
  {
   "cell_type": "code",
   "execution_count": 66,
   "id": "181907a9",
   "metadata": {},
   "outputs": [
    {
     "name": "stdout",
     "output_type": "stream",
     "text": [
      "<class 'astropy.table.table.Table'>\n",
      "<class 'astropy.table.table.Table'>\n",
      "<class 'astropy.table.table.Table'>\n",
      "<class 'astropy.table.table.Table'>\n",
      "<class 'numpy.ndarray'>\n"
     ]
    }
   ],
   "source": [
    "from astroquery.ned import Ned\n",
    "import numpy as np\n",
    "\n",
    "def search_ned_objects(object_names):\n",
    "    results = []\n",
    "    for name in object_names:\n",
    "        result_table = Ned.query_object(name)\n",
    "        if result_table is not None:\n",
    "            # Append the result table to the array\n",
    "            print(type(result_table))\n",
    "            results.append(result_table)\n",
    "    return np.array(results)\n",
    "\n",
    "# Example list of object names\n",
    "object_names = np.array([\"M31\", \"M42\", \"NGC 224\", \"Messier 87\"])\n",
    "\n",
    "# Search NED and store results in an array\n",
    "search_results = search_ned_objects(object_names)\n",
    "\n",
    "# Access the results from the array\n",
    "# for result_table in search_results:\n",
    "#     print(result_table)\n",
    "print(type(search_results))\n"
   ]
  },
  {
   "cell_type": "code",
   "execution_count": 64,
   "id": "96f161d7",
   "metadata": {},
   "outputs": [
    {
     "data": {
      "text/plain": [
       "array([[(1, 'MESSIER 031',  10.68479, 41.26906, 'G', -297., -0.000991, 'SUN', '4.36', nan, 5083, 23, 176,  62, 40, 13, 2)],\n",
       "       [(1, 'MESSIER 042',  83.81866, -5.38968, 'HII',   nan,       nan, '', '3.0', nan,   61,  1,  20,   8,  0,  6, 0)],\n",
       "       [(1, 'MESSIER 031',  10.68479, 41.26906, 'G', -297., -0.000991, 'SUN', '4.36', nan, 5083, 23, 176,  62, 40, 13, 2)],\n",
       "       [(1, 'MESSIER 087', 187.70593, 12.39112, 'G', 1284.,  0.004283, 'UUN', '9.59', nan, 3288, 55, 506, 114, 73, 14, 1)]],\n",
       "      dtype=[('No.', '<i4'), ('Object Name', '<U30'), ('RA', '<f8'), ('DEC', '<f8'), ('Type', 'O'), ('Velocity', '<f8'), ('Redshift', '<f8'), ('Redshift Flag', 'O'), ('Magnitude and Filter', 'O'), ('Separation', '<f8'), ('References', '<i4'), ('Notes', '<i4'), ('Photometry Points', '<i4'), ('Positions', '<i4'), ('Redshift Points', '<i4'), ('Diameter Points', '<i4'), ('Associations', '<i4')])"
      ]
     },
     "execution_count": 64,
     "metadata": {},
     "output_type": "execute_result"
    }
   ],
   "source": [
    "search_results"
   ]
  },
  {
   "cell_type": "code",
   "execution_count": null,
   "id": "d8622ab2",
   "metadata": {},
   "outputs": [],
   "source": [
    "from astroquery.ned import Ned\n",
    "import numpy as np\n",
    "\n",
    "def search_ned_objects(object_names):\n",
    "    results = []\n",
    "    for name in object_names:\n",
    "        result_table = Ned.query_object(name)\n",
    "        if result_table is not None:\n",
    "            # Convert the table to a pandas DataFrame\n",
    "            df = tbl.to_pandas()\n",
    "\n",
    "            # Append the DataFrame to the existing CSV file\n",
    "            df.to_csv('csc2.csv', mode='a', header=False, index=False)\n",
    "    return 0\n",
    "\n",
    "# Example list of object names\n",
    "object_names = np.array([\"M31\", \"M42\", \"NGC 224\", \"Messier 87\"])\n",
    "\n",
    "# Search NED and store results in an array\n",
    "search_results = search_ned_objects(object_names)\n",
    "\n",
    "# Access the results from the array\n",
    "# for result_table in search_results:\n",
    "#     print(result_table)\n",
    "print(type(search_results))\n",
    "\n"
   ]
  },
  {
   "cell_type": "markdown",
   "id": "a5074d01",
   "metadata": {},
   "source": [
    "# Chandra NED Cross Match"
   ]
  },
  {
   "cell_type": "code",
   "execution_count": 68,
   "id": "31cad02e",
   "metadata": {},
   "outputs": [],
   "source": [
    "import pandas as pd\n",
    "\n",
    "csc2 = pd.read_csv(\"C://Users//SATYAPRIYA//X ray ML Project Samir Sir//csc2.csv\")"
   ]
  },
  {
   "cell_type": "code",
   "execution_count": 69,
   "id": "8644e4a5",
   "metadata": {},
   "outputs": [],
   "source": [
    "Name_list_chandra = csc2.iloc[:,0]"
   ]
  },
  {
   "cell_type": "code",
   "execution_count": 70,
   "id": "50414af3",
   "metadata": {},
   "outputs": [],
   "source": [
    "from astroquery.ned import Ned\n",
    "from astropy.table import Table\n",
    "import pandas as pd\n",
    "\n",
    "def search_ned_objects(object_names):\n",
    "    results = []\n",
    "    for index, name in enumerate(object_names):\n",
    "        try:\n",
    "            result_table = Ned.query_object(name)\n",
    "            if result_table is not None:\n",
    "                # Convert the table to a pandas DataFrame\n",
    "                df = result_table.to_pandas()\n",
    "\n",
    "                # Append the DataFrame to the existing CSV file\n",
    "                df.to_csv('NED_csc2 cross match.csv', mode='a', header=False, index=False)\n",
    "        except Exception as e:\n",
    "            if isinstance(e, TimeoutError):\n",
    "                return  print(index)\n",
    "            else:\n",
    "                raise\n",
    "    return \"Done\"\n"
   ]
  },
  {
   "cell_type": "code",
   "execution_count": 75,
   "id": "ac7c5660",
   "metadata": {
    "scrolled": true
   },
   "outputs": [
    {
     "ename": "ConnectionError",
     "evalue": "('Connection aborted.', RemoteDisconnected('Remote end closed connection without response'))",
     "output_type": "error",
     "traceback": [
      "\u001b[1;31m---------------------------------------------------------------------------\u001b[0m",
      "\u001b[1;31mRemoteDisconnected\u001b[0m                        Traceback (most recent call last)",
      "\u001b[1;32mD:\\Anaconda\\lib\\site-packages\\urllib3\\connectionpool.py\u001b[0m in \u001b[0;36murlopen\u001b[1;34m(self, method, url, body, headers, retries, redirect, assert_same_host, timeout, pool_timeout, release_conn, chunked, body_pos, **response_kw)\u001b[0m\n\u001b[0;32m    702\u001b[0m             \u001b[1;31m# Make the request on the httplib connection object.\u001b[0m\u001b[1;33m\u001b[0m\u001b[1;33m\u001b[0m\u001b[0m\n\u001b[1;32m--> 703\u001b[1;33m             httplib_response = self._make_request(\n\u001b[0m\u001b[0;32m    704\u001b[0m                 \u001b[0mconn\u001b[0m\u001b[1;33m,\u001b[0m\u001b[1;33m\u001b[0m\u001b[1;33m\u001b[0m\u001b[0m\n",
      "\u001b[1;32mD:\\Anaconda\\lib\\site-packages\\urllib3\\connectionpool.py\u001b[0m in \u001b[0;36m_make_request\u001b[1;34m(self, conn, method, url, timeout, chunked, **httplib_request_kw)\u001b[0m\n\u001b[0;32m    448\u001b[0m                     \u001b[1;31m# Otherwise it looks like a bug in the code.\u001b[0m\u001b[1;33m\u001b[0m\u001b[1;33m\u001b[0m\u001b[0m\n\u001b[1;32m--> 449\u001b[1;33m                     \u001b[0msix\u001b[0m\u001b[1;33m.\u001b[0m\u001b[0mraise_from\u001b[0m\u001b[1;33m(\u001b[0m\u001b[0me\u001b[0m\u001b[1;33m,\u001b[0m \u001b[1;32mNone\u001b[0m\u001b[1;33m)\u001b[0m\u001b[1;33m\u001b[0m\u001b[1;33m\u001b[0m\u001b[0m\n\u001b[0m\u001b[0;32m    450\u001b[0m         \u001b[1;32mexcept\u001b[0m \u001b[1;33m(\u001b[0m\u001b[0mSocketTimeout\u001b[0m\u001b[1;33m,\u001b[0m \u001b[0mBaseSSLError\u001b[0m\u001b[1;33m,\u001b[0m \u001b[0mSocketError\u001b[0m\u001b[1;33m)\u001b[0m \u001b[1;32mas\u001b[0m \u001b[0me\u001b[0m\u001b[1;33m:\u001b[0m\u001b[1;33m\u001b[0m\u001b[1;33m\u001b[0m\u001b[0m\n",
      "\u001b[1;32mD:\\Anaconda\\lib\\site-packages\\urllib3\\packages\\six.py\u001b[0m in \u001b[0;36mraise_from\u001b[1;34m(value, from_value)\u001b[0m\n",
      "\u001b[1;32mD:\\Anaconda\\lib\\site-packages\\urllib3\\connectionpool.py\u001b[0m in \u001b[0;36m_make_request\u001b[1;34m(self, conn, method, url, timeout, chunked, **httplib_request_kw)\u001b[0m\n\u001b[0;32m    443\u001b[0m                 \u001b[1;32mtry\u001b[0m\u001b[1;33m:\u001b[0m\u001b[1;33m\u001b[0m\u001b[1;33m\u001b[0m\u001b[0m\n\u001b[1;32m--> 444\u001b[1;33m                     \u001b[0mhttplib_response\u001b[0m \u001b[1;33m=\u001b[0m \u001b[0mconn\u001b[0m\u001b[1;33m.\u001b[0m\u001b[0mgetresponse\u001b[0m\u001b[1;33m(\u001b[0m\u001b[1;33m)\u001b[0m\u001b[1;33m\u001b[0m\u001b[1;33m\u001b[0m\u001b[0m\n\u001b[0m\u001b[0;32m    445\u001b[0m                 \u001b[1;32mexcept\u001b[0m \u001b[0mBaseException\u001b[0m \u001b[1;32mas\u001b[0m \u001b[0me\u001b[0m\u001b[1;33m:\u001b[0m\u001b[1;33m\u001b[0m\u001b[1;33m\u001b[0m\u001b[0m\n",
      "\u001b[1;32mD:\\Anaconda\\lib\\http\\client.py\u001b[0m in \u001b[0;36mgetresponse\u001b[1;34m(self)\u001b[0m\n\u001b[0;32m   1376\u001b[0m             \u001b[1;32mtry\u001b[0m\u001b[1;33m:\u001b[0m\u001b[1;33m\u001b[0m\u001b[1;33m\u001b[0m\u001b[0m\n\u001b[1;32m-> 1377\u001b[1;33m                 \u001b[0mresponse\u001b[0m\u001b[1;33m.\u001b[0m\u001b[0mbegin\u001b[0m\u001b[1;33m(\u001b[0m\u001b[1;33m)\u001b[0m\u001b[1;33m\u001b[0m\u001b[1;33m\u001b[0m\u001b[0m\n\u001b[0m\u001b[0;32m   1378\u001b[0m             \u001b[1;32mexcept\u001b[0m \u001b[0mConnectionError\u001b[0m\u001b[1;33m:\u001b[0m\u001b[1;33m\u001b[0m\u001b[1;33m\u001b[0m\u001b[0m\n",
      "\u001b[1;32mD:\\Anaconda\\lib\\http\\client.py\u001b[0m in \u001b[0;36mbegin\u001b[1;34m(self)\u001b[0m\n\u001b[0;32m    319\u001b[0m         \u001b[1;32mwhile\u001b[0m \u001b[1;32mTrue\u001b[0m\u001b[1;33m:\u001b[0m\u001b[1;33m\u001b[0m\u001b[1;33m\u001b[0m\u001b[0m\n\u001b[1;32m--> 320\u001b[1;33m             \u001b[0mversion\u001b[0m\u001b[1;33m,\u001b[0m \u001b[0mstatus\u001b[0m\u001b[1;33m,\u001b[0m \u001b[0mreason\u001b[0m \u001b[1;33m=\u001b[0m \u001b[0mself\u001b[0m\u001b[1;33m.\u001b[0m\u001b[0m_read_status\u001b[0m\u001b[1;33m(\u001b[0m\u001b[1;33m)\u001b[0m\u001b[1;33m\u001b[0m\u001b[1;33m\u001b[0m\u001b[0m\n\u001b[0m\u001b[0;32m    321\u001b[0m             \u001b[1;32mif\u001b[0m \u001b[0mstatus\u001b[0m \u001b[1;33m!=\u001b[0m \u001b[0mCONTINUE\u001b[0m\u001b[1;33m:\u001b[0m\u001b[1;33m\u001b[0m\u001b[1;33m\u001b[0m\u001b[0m\n",
      "\u001b[1;32mD:\\Anaconda\\lib\\http\\client.py\u001b[0m in \u001b[0;36m_read_status\u001b[1;34m(self)\u001b[0m\n\u001b[0;32m    288\u001b[0m             \u001b[1;31m# sending a valid response.\u001b[0m\u001b[1;33m\u001b[0m\u001b[1;33m\u001b[0m\u001b[0m\n\u001b[1;32m--> 289\u001b[1;33m             raise RemoteDisconnected(\"Remote end closed connection without\"\n\u001b[0m\u001b[0;32m    290\u001b[0m                                      \" response\")\n",
      "\u001b[1;31mRemoteDisconnected\u001b[0m: Remote end closed connection without response",
      "\nDuring handling of the above exception, another exception occurred:\n",
      "\u001b[1;31mProtocolError\u001b[0m                             Traceback (most recent call last)",
      "\u001b[1;32mD:\\Anaconda\\lib\\site-packages\\requests\\adapters.py\u001b[0m in \u001b[0;36msend\u001b[1;34m(self, request, stream, timeout, verify, cert, proxies)\u001b[0m\n\u001b[0;32m    488\u001b[0m             \u001b[1;32mif\u001b[0m \u001b[1;32mnot\u001b[0m \u001b[0mchunked\u001b[0m\u001b[1;33m:\u001b[0m\u001b[1;33m\u001b[0m\u001b[1;33m\u001b[0m\u001b[0m\n\u001b[1;32m--> 489\u001b[1;33m                 resp = conn.urlopen(\n\u001b[0m\u001b[0;32m    490\u001b[0m                     \u001b[0mmethod\u001b[0m\u001b[1;33m=\u001b[0m\u001b[0mrequest\u001b[0m\u001b[1;33m.\u001b[0m\u001b[0mmethod\u001b[0m\u001b[1;33m,\u001b[0m\u001b[1;33m\u001b[0m\u001b[1;33m\u001b[0m\u001b[0m\n",
      "\u001b[1;32mD:\\Anaconda\\lib\\site-packages\\urllib3\\connectionpool.py\u001b[0m in \u001b[0;36murlopen\u001b[1;34m(self, method, url, body, headers, retries, redirect, assert_same_host, timeout, pool_timeout, release_conn, chunked, body_pos, **response_kw)\u001b[0m\n\u001b[0;32m    786\u001b[0m \u001b[1;33m\u001b[0m\u001b[0m\n\u001b[1;32m--> 787\u001b[1;33m             retries = retries.increment(\n\u001b[0m\u001b[0;32m    788\u001b[0m                 \u001b[0mmethod\u001b[0m\u001b[1;33m,\u001b[0m \u001b[0murl\u001b[0m\u001b[1;33m,\u001b[0m \u001b[0merror\u001b[0m\u001b[1;33m=\u001b[0m\u001b[0me\u001b[0m\u001b[1;33m,\u001b[0m \u001b[0m_pool\u001b[0m\u001b[1;33m=\u001b[0m\u001b[0mself\u001b[0m\u001b[1;33m,\u001b[0m \u001b[0m_stacktrace\u001b[0m\u001b[1;33m=\u001b[0m\u001b[0msys\u001b[0m\u001b[1;33m.\u001b[0m\u001b[0mexc_info\u001b[0m\u001b[1;33m(\u001b[0m\u001b[1;33m)\u001b[0m\u001b[1;33m[\u001b[0m\u001b[1;36m2\u001b[0m\u001b[1;33m]\u001b[0m\u001b[1;33m\u001b[0m\u001b[1;33m\u001b[0m\u001b[0m\n",
      "\u001b[1;32mD:\\Anaconda\\lib\\site-packages\\urllib3\\util\\retry.py\u001b[0m in \u001b[0;36mincrement\u001b[1;34m(self, method, url, response, error, _pool, _stacktrace)\u001b[0m\n\u001b[0;32m    549\u001b[0m             \u001b[1;32mif\u001b[0m \u001b[0mread\u001b[0m \u001b[1;32mis\u001b[0m \u001b[1;32mFalse\u001b[0m \u001b[1;32mor\u001b[0m \u001b[1;32mnot\u001b[0m \u001b[0mself\u001b[0m\u001b[1;33m.\u001b[0m\u001b[0m_is_method_retryable\u001b[0m\u001b[1;33m(\u001b[0m\u001b[0mmethod\u001b[0m\u001b[1;33m)\u001b[0m\u001b[1;33m:\u001b[0m\u001b[1;33m\u001b[0m\u001b[1;33m\u001b[0m\u001b[0m\n\u001b[1;32m--> 550\u001b[1;33m                 \u001b[1;32mraise\u001b[0m \u001b[0msix\u001b[0m\u001b[1;33m.\u001b[0m\u001b[0mreraise\u001b[0m\u001b[1;33m(\u001b[0m\u001b[0mtype\u001b[0m\u001b[1;33m(\u001b[0m\u001b[0merror\u001b[0m\u001b[1;33m)\u001b[0m\u001b[1;33m,\u001b[0m \u001b[0merror\u001b[0m\u001b[1;33m,\u001b[0m \u001b[0m_stacktrace\u001b[0m\u001b[1;33m)\u001b[0m\u001b[1;33m\u001b[0m\u001b[1;33m\u001b[0m\u001b[0m\n\u001b[0m\u001b[0;32m    551\u001b[0m             \u001b[1;32melif\u001b[0m \u001b[0mread\u001b[0m \u001b[1;32mis\u001b[0m \u001b[1;32mnot\u001b[0m \u001b[1;32mNone\u001b[0m\u001b[1;33m:\u001b[0m\u001b[1;33m\u001b[0m\u001b[1;33m\u001b[0m\u001b[0m\n",
      "\u001b[1;32mD:\\Anaconda\\lib\\site-packages\\urllib3\\packages\\six.py\u001b[0m in \u001b[0;36mreraise\u001b[1;34m(tp, value, tb)\u001b[0m\n\u001b[0;32m    768\u001b[0m             \u001b[1;32mif\u001b[0m \u001b[0mvalue\u001b[0m\u001b[1;33m.\u001b[0m\u001b[0m__traceback__\u001b[0m \u001b[1;32mis\u001b[0m \u001b[1;32mnot\u001b[0m \u001b[0mtb\u001b[0m\u001b[1;33m:\u001b[0m\u001b[1;33m\u001b[0m\u001b[1;33m\u001b[0m\u001b[0m\n\u001b[1;32m--> 769\u001b[1;33m                 \u001b[1;32mraise\u001b[0m \u001b[0mvalue\u001b[0m\u001b[1;33m.\u001b[0m\u001b[0mwith_traceback\u001b[0m\u001b[1;33m(\u001b[0m\u001b[0mtb\u001b[0m\u001b[1;33m)\u001b[0m\u001b[1;33m\u001b[0m\u001b[1;33m\u001b[0m\u001b[0m\n\u001b[0m\u001b[0;32m    770\u001b[0m             \u001b[1;32mraise\u001b[0m \u001b[0mvalue\u001b[0m\u001b[1;33m\u001b[0m\u001b[1;33m\u001b[0m\u001b[0m\n",
      "\u001b[1;32mD:\\Anaconda\\lib\\site-packages\\urllib3\\connectionpool.py\u001b[0m in \u001b[0;36murlopen\u001b[1;34m(self, method, url, body, headers, retries, redirect, assert_same_host, timeout, pool_timeout, release_conn, chunked, body_pos, **response_kw)\u001b[0m\n\u001b[0;32m    702\u001b[0m             \u001b[1;31m# Make the request on the httplib connection object.\u001b[0m\u001b[1;33m\u001b[0m\u001b[1;33m\u001b[0m\u001b[0m\n\u001b[1;32m--> 703\u001b[1;33m             httplib_response = self._make_request(\n\u001b[0m\u001b[0;32m    704\u001b[0m                 \u001b[0mconn\u001b[0m\u001b[1;33m,\u001b[0m\u001b[1;33m\u001b[0m\u001b[1;33m\u001b[0m\u001b[0m\n",
      "\u001b[1;32mD:\\Anaconda\\lib\\site-packages\\urllib3\\connectionpool.py\u001b[0m in \u001b[0;36m_make_request\u001b[1;34m(self, conn, method, url, timeout, chunked, **httplib_request_kw)\u001b[0m\n\u001b[0;32m    448\u001b[0m                     \u001b[1;31m# Otherwise it looks like a bug in the code.\u001b[0m\u001b[1;33m\u001b[0m\u001b[1;33m\u001b[0m\u001b[0m\n\u001b[1;32m--> 449\u001b[1;33m                     \u001b[0msix\u001b[0m\u001b[1;33m.\u001b[0m\u001b[0mraise_from\u001b[0m\u001b[1;33m(\u001b[0m\u001b[0me\u001b[0m\u001b[1;33m,\u001b[0m \u001b[1;32mNone\u001b[0m\u001b[1;33m)\u001b[0m\u001b[1;33m\u001b[0m\u001b[1;33m\u001b[0m\u001b[0m\n\u001b[0m\u001b[0;32m    450\u001b[0m         \u001b[1;32mexcept\u001b[0m \u001b[1;33m(\u001b[0m\u001b[0mSocketTimeout\u001b[0m\u001b[1;33m,\u001b[0m \u001b[0mBaseSSLError\u001b[0m\u001b[1;33m,\u001b[0m \u001b[0mSocketError\u001b[0m\u001b[1;33m)\u001b[0m \u001b[1;32mas\u001b[0m \u001b[0me\u001b[0m\u001b[1;33m:\u001b[0m\u001b[1;33m\u001b[0m\u001b[1;33m\u001b[0m\u001b[0m\n",
      "\u001b[1;32mD:\\Anaconda\\lib\\site-packages\\urllib3\\packages\\six.py\u001b[0m in \u001b[0;36mraise_from\u001b[1;34m(value, from_value)\u001b[0m\n",
      "\u001b[1;32mD:\\Anaconda\\lib\\site-packages\\urllib3\\connectionpool.py\u001b[0m in \u001b[0;36m_make_request\u001b[1;34m(self, conn, method, url, timeout, chunked, **httplib_request_kw)\u001b[0m\n\u001b[0;32m    443\u001b[0m                 \u001b[1;32mtry\u001b[0m\u001b[1;33m:\u001b[0m\u001b[1;33m\u001b[0m\u001b[1;33m\u001b[0m\u001b[0m\n\u001b[1;32m--> 444\u001b[1;33m                     \u001b[0mhttplib_response\u001b[0m \u001b[1;33m=\u001b[0m \u001b[0mconn\u001b[0m\u001b[1;33m.\u001b[0m\u001b[0mgetresponse\u001b[0m\u001b[1;33m(\u001b[0m\u001b[1;33m)\u001b[0m\u001b[1;33m\u001b[0m\u001b[1;33m\u001b[0m\u001b[0m\n\u001b[0m\u001b[0;32m    445\u001b[0m                 \u001b[1;32mexcept\u001b[0m \u001b[0mBaseException\u001b[0m \u001b[1;32mas\u001b[0m \u001b[0me\u001b[0m\u001b[1;33m:\u001b[0m\u001b[1;33m\u001b[0m\u001b[1;33m\u001b[0m\u001b[0m\n",
      "\u001b[1;32mD:\\Anaconda\\lib\\http\\client.py\u001b[0m in \u001b[0;36mgetresponse\u001b[1;34m(self)\u001b[0m\n\u001b[0;32m   1376\u001b[0m             \u001b[1;32mtry\u001b[0m\u001b[1;33m:\u001b[0m\u001b[1;33m\u001b[0m\u001b[1;33m\u001b[0m\u001b[0m\n\u001b[1;32m-> 1377\u001b[1;33m                 \u001b[0mresponse\u001b[0m\u001b[1;33m.\u001b[0m\u001b[0mbegin\u001b[0m\u001b[1;33m(\u001b[0m\u001b[1;33m)\u001b[0m\u001b[1;33m\u001b[0m\u001b[1;33m\u001b[0m\u001b[0m\n\u001b[0m\u001b[0;32m   1378\u001b[0m             \u001b[1;32mexcept\u001b[0m \u001b[0mConnectionError\u001b[0m\u001b[1;33m:\u001b[0m\u001b[1;33m\u001b[0m\u001b[1;33m\u001b[0m\u001b[0m\n",
      "\u001b[1;32mD:\\Anaconda\\lib\\http\\client.py\u001b[0m in \u001b[0;36mbegin\u001b[1;34m(self)\u001b[0m\n\u001b[0;32m    319\u001b[0m         \u001b[1;32mwhile\u001b[0m \u001b[1;32mTrue\u001b[0m\u001b[1;33m:\u001b[0m\u001b[1;33m\u001b[0m\u001b[1;33m\u001b[0m\u001b[0m\n\u001b[1;32m--> 320\u001b[1;33m             \u001b[0mversion\u001b[0m\u001b[1;33m,\u001b[0m \u001b[0mstatus\u001b[0m\u001b[1;33m,\u001b[0m \u001b[0mreason\u001b[0m \u001b[1;33m=\u001b[0m \u001b[0mself\u001b[0m\u001b[1;33m.\u001b[0m\u001b[0m_read_status\u001b[0m\u001b[1;33m(\u001b[0m\u001b[1;33m)\u001b[0m\u001b[1;33m\u001b[0m\u001b[1;33m\u001b[0m\u001b[0m\n\u001b[0m\u001b[0;32m    321\u001b[0m             \u001b[1;32mif\u001b[0m \u001b[0mstatus\u001b[0m \u001b[1;33m!=\u001b[0m \u001b[0mCONTINUE\u001b[0m\u001b[1;33m:\u001b[0m\u001b[1;33m\u001b[0m\u001b[1;33m\u001b[0m\u001b[0m\n",
      "\u001b[1;32mD:\\Anaconda\\lib\\http\\client.py\u001b[0m in \u001b[0;36m_read_status\u001b[1;34m(self)\u001b[0m\n\u001b[0;32m    288\u001b[0m             \u001b[1;31m# sending a valid response.\u001b[0m\u001b[1;33m\u001b[0m\u001b[1;33m\u001b[0m\u001b[0m\n\u001b[1;32m--> 289\u001b[1;33m             raise RemoteDisconnected(\"Remote end closed connection without\"\n\u001b[0m\u001b[0;32m    290\u001b[0m                                      \" response\")\n",
      "\u001b[1;31mProtocolError\u001b[0m: ('Connection aborted.', RemoteDisconnected('Remote end closed connection without response'))",
      "\nDuring handling of the above exception, another exception occurred:\n",
      "\u001b[1;31mConnectionError\u001b[0m                           Traceback (most recent call last)",
      "\u001b[1;32m~\\AppData\\Local\\Temp\\ipykernel_5244\\2639654100.py\u001b[0m in \u001b[0;36m<module>\u001b[1;34m\u001b[0m\n\u001b[1;32m----> 1\u001b[1;33m \u001b[0msearch_ned_objects\u001b[0m\u001b[1;33m(\u001b[0m\u001b[0mName_list_chandra\u001b[0m\u001b[1;33m[\u001b[0m\u001b[1;36m297\u001b[0m\u001b[1;33m:\u001b[0m\u001b[1;33m]\u001b[0m\u001b[1;33m)\u001b[0m\u001b[1;33m\u001b[0m\u001b[1;33m\u001b[0m\u001b[0m\n\u001b[0m",
      "\u001b[1;32m~\\AppData\\Local\\Temp\\ipykernel_5244\\3744462309.py\u001b[0m in \u001b[0;36msearch_ned_objects\u001b[1;34m(object_names)\u001b[0m\n\u001b[0;32m      7\u001b[0m     \u001b[1;32mfor\u001b[0m \u001b[0mindex\u001b[0m\u001b[1;33m,\u001b[0m \u001b[0mname\u001b[0m \u001b[1;32min\u001b[0m \u001b[0menumerate\u001b[0m\u001b[1;33m(\u001b[0m\u001b[0mobject_names\u001b[0m\u001b[1;33m)\u001b[0m\u001b[1;33m:\u001b[0m\u001b[1;33m\u001b[0m\u001b[1;33m\u001b[0m\u001b[0m\n\u001b[0;32m      8\u001b[0m         \u001b[1;32mtry\u001b[0m\u001b[1;33m:\u001b[0m\u001b[1;33m\u001b[0m\u001b[1;33m\u001b[0m\u001b[0m\n\u001b[1;32m----> 9\u001b[1;33m             \u001b[0mresult_table\u001b[0m \u001b[1;33m=\u001b[0m \u001b[0mNed\u001b[0m\u001b[1;33m.\u001b[0m\u001b[0mquery_object\u001b[0m\u001b[1;33m(\u001b[0m\u001b[0mname\u001b[0m\u001b[1;33m)\u001b[0m\u001b[1;33m\u001b[0m\u001b[1;33m\u001b[0m\u001b[0m\n\u001b[0m\u001b[0;32m     10\u001b[0m             \u001b[1;32mif\u001b[0m \u001b[0mresult_table\u001b[0m \u001b[1;32mis\u001b[0m \u001b[1;32mnot\u001b[0m \u001b[1;32mNone\u001b[0m\u001b[1;33m:\u001b[0m\u001b[1;33m\u001b[0m\u001b[1;33m\u001b[0m\u001b[0m\n\u001b[0;32m     11\u001b[0m                 \u001b[1;31m# Convert the table to a pandas DataFrame\u001b[0m\u001b[1;33m\u001b[0m\u001b[1;33m\u001b[0m\u001b[0m\n",
      "\u001b[1;32mD:\\Anaconda\\lib\\site-packages\\astroquery\\ipac\\ned\\core.py\u001b[0m in \u001b[0;36mquery_object\u001b[1;34m(self, object_name, get_query_payload, verbose)\u001b[0m\n\u001b[0;32m     65\u001b[0m         \"\"\"\n\u001b[0;32m     66\u001b[0m         \u001b[1;31m# for NED's object by name\u001b[0m\u001b[1;33m\u001b[0m\u001b[1;33m\u001b[0m\u001b[0m\n\u001b[1;32m---> 67\u001b[1;33m         response = self.query_object_async(object_name,\n\u001b[0m\u001b[0;32m     68\u001b[0m                                            get_query_payload=get_query_payload)\n\u001b[0;32m     69\u001b[0m         \u001b[1;32mif\u001b[0m \u001b[0mget_query_payload\u001b[0m\u001b[1;33m:\u001b[0m\u001b[1;33m\u001b[0m\u001b[1;33m\u001b[0m\u001b[0m\n",
      "\u001b[1;32mD:\\Anaconda\\lib\\site-packages\\astroquery\\ipac\\ned\\core.py\u001b[0m in \u001b[0;36mquery_object_async\u001b[1;34m(self, object_name, get_query_payload)\u001b[0m\n\u001b[0;32m     97\u001b[0m         \u001b[1;32mif\u001b[0m \u001b[0mget_query_payload\u001b[0m\u001b[1;33m:\u001b[0m\u001b[1;33m\u001b[0m\u001b[1;33m\u001b[0m\u001b[0m\n\u001b[0;32m     98\u001b[0m             \u001b[1;32mreturn\u001b[0m \u001b[0mrequest_payload\u001b[0m\u001b[1;33m\u001b[0m\u001b[1;33m\u001b[0m\u001b[0m\n\u001b[1;32m---> 99\u001b[1;33m         response = self._request(\"GET\", url=Ned.OBJ_SEARCH_URL,\n\u001b[0m\u001b[0;32m    100\u001b[0m                                  params=request_payload, timeout=Ned.TIMEOUT)\n\u001b[0;32m    101\u001b[0m \u001b[1;33m\u001b[0m\u001b[0m\n",
      "\u001b[1;32mD:\\Anaconda\\lib\\site-packages\\astroquery\\query.py\u001b[0m in \u001b[0;36m_request\u001b[1;34m(self, method, url, params, data, headers, files, save, savedir, timeout, cache, stream, auth, continuation, verify, allow_redirects, json, return_response_on_save)\u001b[0m\n\u001b[0;32m    315\u001b[0m                 \u001b[0mresponse\u001b[0m \u001b[1;33m=\u001b[0m \u001b[0mquery\u001b[0m\u001b[1;33m.\u001b[0m\u001b[0mfrom_cache\u001b[0m\u001b[1;33m(\u001b[0m\u001b[0mself\u001b[0m\u001b[1;33m.\u001b[0m\u001b[0mcache_location\u001b[0m\u001b[1;33m)\u001b[0m\u001b[1;33m\u001b[0m\u001b[1;33m\u001b[0m\u001b[0m\n\u001b[0;32m    316\u001b[0m                 \u001b[1;32mif\u001b[0m \u001b[1;32mnot\u001b[0m \u001b[0mresponse\u001b[0m\u001b[1;33m:\u001b[0m\u001b[1;33m\u001b[0m\u001b[1;33m\u001b[0m\u001b[0m\n\u001b[1;32m--> 317\u001b[1;33m                     response = query.request(self._session,\n\u001b[0m\u001b[0;32m    318\u001b[0m                                              \u001b[0mself\u001b[0m\u001b[1;33m.\u001b[0m\u001b[0mcache_location\u001b[0m\u001b[1;33m,\u001b[0m\u001b[1;33m\u001b[0m\u001b[1;33m\u001b[0m\u001b[0m\n\u001b[0;32m    319\u001b[0m                                              \u001b[0mstream\u001b[0m\u001b[1;33m=\u001b[0m\u001b[0mstream\u001b[0m\u001b[1;33m,\u001b[0m\u001b[1;33m\u001b[0m\u001b[1;33m\u001b[0m\u001b[0m\n",
      "\u001b[1;32mD:\\Anaconda\\lib\\site-packages\\astroquery\\query.py\u001b[0m in \u001b[0;36mrequest\u001b[1;34m(self, session, cache_location, stream, auth, verify, allow_redirects, json)\u001b[0m\n\u001b[0;32m     69\u001b[0m                 \u001b[0mauth\u001b[0m\u001b[1;33m=\u001b[0m\u001b[1;32mNone\u001b[0m\u001b[1;33m,\u001b[0m \u001b[0mverify\u001b[0m\u001b[1;33m=\u001b[0m\u001b[1;32mTrue\u001b[0m\u001b[1;33m,\u001b[0m \u001b[0mallow_redirects\u001b[0m\u001b[1;33m=\u001b[0m\u001b[1;32mTrue\u001b[0m\u001b[1;33m,\u001b[0m\u001b[1;33m\u001b[0m\u001b[1;33m\u001b[0m\u001b[0m\n\u001b[0;32m     70\u001b[0m                 json=None):\n\u001b[1;32m---> 71\u001b[1;33m         return session.request(self.method, self.url, params=self.params,\n\u001b[0m\u001b[0;32m     72\u001b[0m                                \u001b[0mdata\u001b[0m\u001b[1;33m=\u001b[0m\u001b[0mself\u001b[0m\u001b[1;33m.\u001b[0m\u001b[0mdata\u001b[0m\u001b[1;33m,\u001b[0m \u001b[0mheaders\u001b[0m\u001b[1;33m=\u001b[0m\u001b[0mself\u001b[0m\u001b[1;33m.\u001b[0m\u001b[0mheaders\u001b[0m\u001b[1;33m,\u001b[0m\u001b[1;33m\u001b[0m\u001b[1;33m\u001b[0m\u001b[0m\n\u001b[0;32m     73\u001b[0m                                \u001b[0mfiles\u001b[0m\u001b[1;33m=\u001b[0m\u001b[0mself\u001b[0m\u001b[1;33m.\u001b[0m\u001b[0mfiles\u001b[0m\u001b[1;33m,\u001b[0m \u001b[0mtimeout\u001b[0m\u001b[1;33m=\u001b[0m\u001b[0mself\u001b[0m\u001b[1;33m.\u001b[0m\u001b[0mtimeout\u001b[0m\u001b[1;33m,\u001b[0m\u001b[1;33m\u001b[0m\u001b[1;33m\u001b[0m\u001b[0m\n",
      "\u001b[1;32mD:\\Anaconda\\lib\\site-packages\\requests\\sessions.py\u001b[0m in \u001b[0;36mrequest\u001b[1;34m(self, method, url, params, data, headers, cookies, files, auth, timeout, allow_redirects, proxies, hooks, stream, verify, cert, json)\u001b[0m\n\u001b[0;32m    585\u001b[0m         }\n\u001b[0;32m    586\u001b[0m         \u001b[0msend_kwargs\u001b[0m\u001b[1;33m.\u001b[0m\u001b[0mupdate\u001b[0m\u001b[1;33m(\u001b[0m\u001b[0msettings\u001b[0m\u001b[1;33m)\u001b[0m\u001b[1;33m\u001b[0m\u001b[1;33m\u001b[0m\u001b[0m\n\u001b[1;32m--> 587\u001b[1;33m         \u001b[0mresp\u001b[0m \u001b[1;33m=\u001b[0m \u001b[0mself\u001b[0m\u001b[1;33m.\u001b[0m\u001b[0msend\u001b[0m\u001b[1;33m(\u001b[0m\u001b[0mprep\u001b[0m\u001b[1;33m,\u001b[0m \u001b[1;33m**\u001b[0m\u001b[0msend_kwargs\u001b[0m\u001b[1;33m)\u001b[0m\u001b[1;33m\u001b[0m\u001b[1;33m\u001b[0m\u001b[0m\n\u001b[0m\u001b[0;32m    588\u001b[0m \u001b[1;33m\u001b[0m\u001b[0m\n\u001b[0;32m    589\u001b[0m         \u001b[1;32mreturn\u001b[0m \u001b[0mresp\u001b[0m\u001b[1;33m\u001b[0m\u001b[1;33m\u001b[0m\u001b[0m\n",
      "\u001b[1;32mD:\\Anaconda\\lib\\site-packages\\requests\\sessions.py\u001b[0m in \u001b[0;36msend\u001b[1;34m(self, request, **kwargs)\u001b[0m\n\u001b[0;32m    699\u001b[0m \u001b[1;33m\u001b[0m\u001b[0m\n\u001b[0;32m    700\u001b[0m         \u001b[1;31m# Send the request\u001b[0m\u001b[1;33m\u001b[0m\u001b[1;33m\u001b[0m\u001b[0m\n\u001b[1;32m--> 701\u001b[1;33m         \u001b[0mr\u001b[0m \u001b[1;33m=\u001b[0m \u001b[0madapter\u001b[0m\u001b[1;33m.\u001b[0m\u001b[0msend\u001b[0m\u001b[1;33m(\u001b[0m\u001b[0mrequest\u001b[0m\u001b[1;33m,\u001b[0m \u001b[1;33m**\u001b[0m\u001b[0mkwargs\u001b[0m\u001b[1;33m)\u001b[0m\u001b[1;33m\u001b[0m\u001b[1;33m\u001b[0m\u001b[0m\n\u001b[0m\u001b[0;32m    702\u001b[0m \u001b[1;33m\u001b[0m\u001b[0m\n\u001b[0;32m    703\u001b[0m         \u001b[1;31m# Total elapsed time of the request (approximately)\u001b[0m\u001b[1;33m\u001b[0m\u001b[1;33m\u001b[0m\u001b[0m\n",
      "\u001b[1;32mD:\\Anaconda\\lib\\site-packages\\requests\\adapters.py\u001b[0m in \u001b[0;36msend\u001b[1;34m(self, request, stream, timeout, verify, cert, proxies)\u001b[0m\n\u001b[0;32m    545\u001b[0m \u001b[1;33m\u001b[0m\u001b[0m\n\u001b[0;32m    546\u001b[0m         \u001b[1;32mexcept\u001b[0m \u001b[1;33m(\u001b[0m\u001b[0mProtocolError\u001b[0m\u001b[1;33m,\u001b[0m \u001b[0mOSError\u001b[0m\u001b[1;33m)\u001b[0m \u001b[1;32mas\u001b[0m \u001b[0merr\u001b[0m\u001b[1;33m:\u001b[0m\u001b[1;33m\u001b[0m\u001b[1;33m\u001b[0m\u001b[0m\n\u001b[1;32m--> 547\u001b[1;33m             \u001b[1;32mraise\u001b[0m \u001b[0mConnectionError\u001b[0m\u001b[1;33m(\u001b[0m\u001b[0merr\u001b[0m\u001b[1;33m,\u001b[0m \u001b[0mrequest\u001b[0m\u001b[1;33m=\u001b[0m\u001b[0mrequest\u001b[0m\u001b[1;33m)\u001b[0m\u001b[1;33m\u001b[0m\u001b[1;33m\u001b[0m\u001b[0m\n\u001b[0m\u001b[0;32m    548\u001b[0m \u001b[1;33m\u001b[0m\u001b[0m\n\u001b[0;32m    549\u001b[0m         \u001b[1;32mexcept\u001b[0m \u001b[0mMaxRetryError\u001b[0m \u001b[1;32mas\u001b[0m \u001b[0me\u001b[0m\u001b[1;33m:\u001b[0m\u001b[1;33m\u001b[0m\u001b[1;33m\u001b[0m\u001b[0m\n",
      "\u001b[1;31mConnectionError\u001b[0m: ('Connection aborted.', RemoteDisconnected('Remote end closed connection without response'))"
     ]
    }
   ],
   "source": [
    "search_ned_objects(Name_list_chandra[297:])"
   ]
  },
  {
   "cell_type": "code",
   "execution_count": 78,
   "id": "7b9eed2a",
   "metadata": {},
   "outputs": [],
   "source": [
    "for i in range(len(Name_list_chandra)):\n",
    "    if Name_list_chandra[i]==\"2MASS J17401627-3044049\":\n",
    "        print(i)\n",
    "        break        "
   ]
  },
  {
   "cell_type": "markdown",
   "id": "bb363622",
   "metadata": {},
   "source": [
    "Edited one"
   ]
  },
  {
   "cell_type": "code",
   "execution_count": 83,
   "id": "17f71d0c",
   "metadata": {},
   "outputs": [],
   "source": [
    "from astroquery.ned import Ned\n",
    "from astropy.table import Table\n",
    "import pandas as pd\n",
    "\n",
    "def search_ned_objects(object_names):\n",
    "    results = []\n",
    "    for index, name in enumerate(object_names):\n",
    "        try:\n",
    "            result_table = Ned.query_object(name)\n",
    "            if result_table is not None:\n",
    "                \n",
    "                # Convert the table to a pandas DataFrame\n",
    "                df = result_table.to_pandas()\n",
    "                \n",
    "                # Add the object name as a new column in the DataFrame\n",
    "                df['Object Name'] = name\n",
    "                \n",
    "                # Append the DataFrame to the existing CSV file\n",
    "                df.to_csv('NED_csc2 cross match.csv', mode='a', header=False, index=False)\n",
    "        except Exception as e:\n",
    "            if isinstance(e, TimeoutError):\n",
    "                return  index\n",
    "            else:\n",
    "                raise\n",
    "    return \"Done\"\n"
   ]
  },
  {
   "cell_type": "markdown",
   "id": "9f98437d",
   "metadata": {},
   "source": [
    "Do testing and check if it is working or not"
   ]
  },
  {
   "cell_type": "code",
   "execution_count": null,
   "id": "bb2a056b",
   "metadata": {},
   "outputs": [],
   "source": [
    "print(search_ned_objects(Name_list_chandra[1:6]))\n",
    "#Print will return the value.The index or if it is done.\n",
    "#Do it under some other name for storage so that does not mess things up."
   ]
  },
  {
   "cell_type": "code",
   "execution_count": null,
   "id": "32fa8eeb",
   "metadata": {},
   "outputs": [],
   "source": []
  },
  {
   "cell_type": "code",
   "execution_count": null,
   "id": "6b968920",
   "metadata": {},
   "outputs": [],
   "source": [
    "import pandas as pd\n",
    "\n",
    "epoch1_2SXPS = pd.read_csv(\"D://Astronomy/VLA Sky Survey//epochs with name and ra dec only//epoch 1 and 2SXPS comp name ra dec.csv\")"
   ]
  },
  {
   "cell_type": "markdown",
   "id": "53c53ea6",
   "metadata": {},
   "source": [
    "# GAIA"
   ]
  },
  {
   "cell_type": "code",
   "execution_count": null,
   "id": "9e274895",
   "metadata": {},
   "outputs": [],
   "source": [
    "from astropy.coordinates import SkyCoord\n",
    "import astropy.units as u\n",
    "from astroquery.gaia import Gaia\n",
    "import pandas as pd\n",
    "\n",
    "def search_gaia(ra_list, dec_list):\n",
    "    for index in range(len(ra_list)):\n",
    "        try:\n",
    "            coord = SkyCoord(ra_list[index], dec_list[index], unit=(u.deg, u.deg), frame='icrs')\n",
    "            gaia_result = Gaia.query_object_async(coordinate=coord, width=0.005 * u.deg, height=0.005 * u.deg)\n",
    "            gaia_table = gaia_result['ra', 'dec','phot_g_mean_mag','phot_bp_mean_mag','phot_rp_mean_mag']\n",
    "\n",
    "            # Save the Gaia table to a CSV file\n",
    "            if index == 0:\n",
    "                # Overwrite the file for the first object\n",
    "                gaia_table.write('D://Astronomy//Gaia_csc2_cross_match.csv', format='csv', overwrite=True)\n",
    "            else:\n",
    "                # Append the table to the file for subsequent objects\n",
    "                gaia_table.write('D://Astronomy//Gaia_csc2_cross_match.csv', format='csv', append=True)\n",
    "        except Exception as e:\n",
    "            return [index, e]\n",
    "    return \"Done\"\n"
   ]
  },
  {
   "cell_type": "code",
   "execution_count": 1,
   "id": "503d9352",
   "metadata": {},
   "outputs": [],
   "source": [
    "import pandas as pd\n",
    "\n",
    "data = pd.read_csv(\"D://Astronomy//1 year x ray project//csc2.csv\")"
   ]
  },
  {
   "cell_type": "code",
   "execution_count": null,
   "id": "fff407c4",
   "metadata": {},
   "outputs": [],
   "source": [
    "from astropy.coordinates import SkyCoord\n",
    "import astropy.units as u\n",
    "from astroquery.gaia import Gaia\n",
    "import pandas as pd\n",
    "\n",
    "def search_gaia(object_names):\n",
    "    for index, object_name in enumerate(object_names):\n",
    "        try:\n",
    "            gaia_result = Gaia.query_object_async(object_name=object_name)\n",
    "            gaia_table = gaia_result['ra', 'dec', 'phot_g_mean_mag', 'phot_bp_mean_mag', 'phot_rp_mean_mag']\n",
    "\n",
    "            # Save the Gaia table to a CSV file\n",
    "            if index == 0:\n",
    "                # Overwrite the file for the first object\n",
    "                gaia_table.write('D://Astronomy//Gaia_csc2_cross_match.csv', format='csv', overwrite=True)\n",
    "            else:\n",
    "                # Append the table to the file for subsequent objects\n",
    "                gaia_table.write('D://Astronomy//Gaia_csc2_cross_match.csv', format='csv', append=True)\n",
    "        except Exception as e:\n",
    "            return [index, e]\n",
    "    return \"Done\"\n"
   ]
  }
 ],
 "metadata": {
  "kernelspec": {
   "display_name": "Python 3 (ipykernel)",
   "language": "python",
   "name": "python3"
  },
  "language_info": {
   "codemirror_mode": {
    "name": "ipython",
    "version": 3
   },
   "file_extension": ".py",
   "mimetype": "text/x-python",
   "name": "python",
   "nbconvert_exporter": "python",
   "pygments_lexer": "ipython3",
   "version": "3.11.3"
  }
 },
 "nbformat": 4,
 "nbformat_minor": 5
}
